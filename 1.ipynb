{
 "cells": [
  {
   "cell_type": "markdown",
   "metadata": {},
   "source": [
    "# Вопрос 1"
   ]
  },
  {
   "cell_type": "code",
   "execution_count": 349,
   "metadata": {},
   "outputs": [],
   "source": [
    "import pandas as pd\n",
    "import numpy as np\n",
    "import datetime as dt"
   ]
  },
  {
   "cell_type": "markdown",
   "metadata": {},
   "source": [
    "Создадим для примера собственные DataFrames, соответствующие описанию DataFrames, которые должны быть загружены из БД."
   ]
  },
  {
   "cell_type": "code",
   "execution_count": 350,
   "metadata": {},
   "outputs": [],
   "source": [
    "d = np.array([['2018-09-12 12:00:00','1','1'], ['2018-10-12 12:00:00', '2', '2'], ['2019-06-03 12:00:00', '5', '3'], ['2019-06-10 12:00:00', '3', '4'],['2019-04-22 12:00:00', 1, '5'],['2019-04-04 12:00:00', '4', '6'],['2019-06-03 12:00:00', '2', '7'],['2019-06-01 12:00:00', '5', '8'],['2019-06-05 12:00:00', '1' , '9'],['2019-06-11 12:00:00', '5', '10']])"
   ]
  },
  {
   "cell_type": "code",
   "execution_count": 351,
   "metadata": {},
   "outputs": [],
   "source": [
    "orders = pd.DataFrame(columns= ['DateTime', 'CustomerId', 'OrderId'], data = d)"
   ]
  },
  {
   "cell_type": "code",
   "execution_count": 352,
   "metadata": {},
   "outputs": [],
   "source": [
    "dor = np.array([['1','2',300],['1','5',200],['2','4',1000],['3','8',150],['3','2',300],['4','5',200],['5','7',450],['5','9',180],['5','2',300],['6','1',1300],['7','6',35],['8','5',200],['8','4',1000],['8','7',450],['9','11',440],['10','11',440]])"
   ]
  },
  {
   "cell_type": "code",
   "execution_count": 353,
   "metadata": {},
   "outputs": [],
   "source": [
    "orderLines = pd.DataFrame(columns = ['OrderId', 'ProductId', 'Price'], data = dor)"
   ]
  },
  {
   "cell_type": "code",
   "execution_count": 354,
   "metadata": {},
   "outputs": [],
   "source": [
    "#оставили только заказы, сделанные меньше месяца назад и привели определенные данные к нужным типам\n",
    "df_joined = orders.set_index('OrderId').join(orderLines.set_index('OrderId'), sort = True, how = 'inner').reset_index()\n",
    "df_joined['Price'] = pd.to_numeric(df_joined['Price'])\n",
    "df_joined['DateTime'] = pd.to_datetime(df_joined['DateTime'])\n",
    "df_joined = df_joined[(now - df_joined['DateTime'])/np.timedelta64(1, 'M')<=1]"
   ]
  },
  {
   "cell_type": "code",
   "execution_count": 355,
   "metadata": {},
   "outputs": [
    {
     "data": {
      "text/plain": [
       "2"
      ]
     },
     "execution_count": 355,
     "metadata": {},
     "output_type": "execute_result"
    }
   ],
   "source": [
    "max_num = int(df_joined.groupby('ProductId').agg({'OrderId':'size'}).rename(columns={'OrderId':'count'}).sort_values('count', ascending=False).agg({'count':'max'}))\n",
    "max_num\n",
    "#смотрим, в скольких заказах встречаются самые популярные продукты "
   ]
  },
  {
   "cell_type": "code",
   "execution_count": 356,
   "metadata": {},
   "outputs": [
    {
     "data": {
      "text/html": [
       "<div>\n",
       "<style scoped>\n",
       "    .dataframe tbody tr th:only-of-type {\n",
       "        vertical-align: middle;\n",
       "    }\n",
       "\n",
       "    .dataframe tbody tr th {\n",
       "        vertical-align: top;\n",
       "    }\n",
       "\n",
       "    .dataframe thead th {\n",
       "        text-align: right;\n",
       "    }\n",
       "</style>\n",
       "<table border=\"1\" class=\"dataframe\">\n",
       "  <thead>\n",
       "    <tr style=\"text-align: right;\">\n",
       "      <th></th>\n",
       "      <th>ProductId</th>\n",
       "      <th>SumProductRevenue</th>\n",
       "    </tr>\n",
       "  </thead>\n",
       "  <tbody>\n",
       "    <tr>\n",
       "      <th>0</th>\n",
       "      <td>11</td>\n",
       "      <td>880</td>\n",
       "    </tr>\n",
       "    <tr>\n",
       "      <th>1</th>\n",
       "      <td>5</td>\n",
       "      <td>400</td>\n",
       "    </tr>\n",
       "  </tbody>\n",
       "</table>\n",
       "</div>"
      ],
      "text/plain": [
       "  ProductId  SumProductRevenue\n",
       "0        11                880\n",
       "1         5                400"
      ]
     },
     "execution_count": 356,
     "metadata": {},
     "output_type": "execute_result"
    }
   ],
   "source": [
    "# id популярных продуктов и суммарные выручка по каждому из них\n",
    "pop_pr = df_joined.groupby('ProductId')[['Price','OrderId']].agg({'OrderId':'size','Price':'sum'})[df_joined.groupby('ProductId').agg({'CustomerId':'size'})['CustomerId']== max_num].reset_index()[['ProductId','Price']].rename(columns={'Price':'SumProductRevenue'})\n",
    "pop_pr\n"
   ]
  },
  {
   "cell_type": "code",
   "execution_count": 362,
   "metadata": {},
   "outputs": [
    {
     "data": {
      "text/html": [
       "<div>\n",
       "<style scoped>\n",
       "    .dataframe tbody tr th:only-of-type {\n",
       "        vertical-align: middle;\n",
       "    }\n",
       "\n",
       "    .dataframe tbody tr th {\n",
       "        vertical-align: top;\n",
       "    }\n",
       "\n",
       "    .dataframe thead th {\n",
       "        text-align: right;\n",
       "    }\n",
       "</style>\n",
       "<table border=\"1\" class=\"dataframe\">\n",
       "  <thead>\n",
       "    <tr style=\"text-align: right;\">\n",
       "      <th></th>\n",
       "      <th>ProductId</th>\n",
       "      <th>OrderId</th>\n",
       "    </tr>\n",
       "  </thead>\n",
       "  <tbody>\n",
       "    <tr>\n",
       "      <th>0</th>\n",
       "      <td>11</td>\n",
       "      <td>10</td>\n",
       "    </tr>\n",
       "    <tr>\n",
       "      <th>1</th>\n",
       "      <td>11</td>\n",
       "      <td>9</td>\n",
       "    </tr>\n",
       "    <tr>\n",
       "      <th>2</th>\n",
       "      <td>5</td>\n",
       "      <td>4</td>\n",
       "    </tr>\n",
       "    <tr>\n",
       "      <th>3</th>\n",
       "      <td>5</td>\n",
       "      <td>8</td>\n",
       "    </tr>\n",
       "  </tbody>\n",
       "</table>\n",
       "</div>"
      ],
      "text/plain": [
       "  ProductId OrderId\n",
       "0        11      10\n",
       "1        11       9\n",
       "2         5       4\n",
       "3         5       8"
      ]
     },
     "execution_count": 362,
     "metadata": {},
     "output_type": "execute_result"
    }
   ],
   "source": [
    "#создадим DataFrame с средними чеками заказов, где есть определенный продукт для этого сделаем пункты 1)-3)\n",
    "#1) в каких заказах есть поп продукты\n",
    "ordersWithPopPr = df_joined.set_index('ProductId').join(pop_pr.set_index('ProductId'),how='inner')['OrderId'].reset_index()\n",
    "ordersWithPopPr"
   ]
  },
  {
   "cell_type": "code",
   "execution_count": 359,
   "metadata": {},
   "outputs": [
    {
     "data": {
      "text/html": [
       "<div>\n",
       "<style scoped>\n",
       "    .dataframe tbody tr th:only-of-type {\n",
       "        vertical-align: middle;\n",
       "    }\n",
       "\n",
       "    .dataframe tbody tr th {\n",
       "        vertical-align: top;\n",
       "    }\n",
       "\n",
       "    .dataframe thead th {\n",
       "        text-align: right;\n",
       "    }\n",
       "</style>\n",
       "<table border=\"1\" class=\"dataframe\">\n",
       "  <thead>\n",
       "    <tr style=\"text-align: right;\">\n",
       "      <th></th>\n",
       "      <th>OrderId</th>\n",
       "      <th>Price</th>\n",
       "    </tr>\n",
       "  </thead>\n",
       "  <tbody>\n",
       "    <tr>\n",
       "      <th>0</th>\n",
       "      <td>10</td>\n",
       "      <td>440</td>\n",
       "    </tr>\n",
       "    <tr>\n",
       "      <th>1</th>\n",
       "      <td>3</td>\n",
       "      <td>450</td>\n",
       "    </tr>\n",
       "    <tr>\n",
       "      <th>2</th>\n",
       "      <td>4</td>\n",
       "      <td>200</td>\n",
       "    </tr>\n",
       "    <tr>\n",
       "      <th>3</th>\n",
       "      <td>7</td>\n",
       "      <td>35</td>\n",
       "    </tr>\n",
       "    <tr>\n",
       "      <th>4</th>\n",
       "      <td>8</td>\n",
       "      <td>1650</td>\n",
       "    </tr>\n",
       "    <tr>\n",
       "      <th>5</th>\n",
       "      <td>9</td>\n",
       "      <td>440</td>\n",
       "    </tr>\n",
       "  </tbody>\n",
       "</table>\n",
       "</div>"
      ],
      "text/plain": [
       "  OrderId  Price\n",
       "0      10    440\n",
       "1       3    450\n",
       "2       4    200\n",
       "3       7     35\n",
       "4       8   1650\n",
       "5       9    440"
      ]
     },
     "execution_count": 359,
     "metadata": {},
     "output_type": "execute_result"
    }
   ],
   "source": [
    "#2)сумма каждого заказа\n",
    "orderSumRev = df_joined.groupby('OrderId').agg({'Price':'sum'}).reset_index()\n",
    "orderSumRev"
   ]
  },
  {
   "cell_type": "code",
   "execution_count": 360,
   "metadata": {},
   "outputs": [],
   "source": [
    "#3)сумма каждого заказа, где есть поп продукты\n",
    "orderSumRevWithPopPr = ordersWithPopPr.set_index('OrderId').join(orderSumRev.set_index('OrderId'),how = 'inner').reset_index()\n",
    "#Итог пунктов 1)-3) получили средние суммы заказов, где есть популярные продукты\n",
    "meanBill = orderSumRevWithPopPr.groupby('ProductId').agg({'Price':'mean'}).rename(columns = {'Price':'MeanBill'}).reset_index()"
   ]
  },
  {
   "cell_type": "markdown",
   "metadata": {},
   "source": [
    "### Отчет, который демонстрирует популярные продукты (PopularProductId), суммарную выручку по каждому такому продукту (SumProductRevenue) и средний чек заказов, в которых есть такие продукты (MeanBill). За последний месяц:"
   ]
  },
  {
   "cell_type": "code",
   "execution_count": 367,
   "metadata": {},
   "outputs": [
    {
     "data": {
      "text/html": [
       "<div>\n",
       "<style scoped>\n",
       "    .dataframe tbody tr th:only-of-type {\n",
       "        vertical-align: middle;\n",
       "    }\n",
       "\n",
       "    .dataframe tbody tr th {\n",
       "        vertical-align: top;\n",
       "    }\n",
       "\n",
       "    .dataframe thead th {\n",
       "        text-align: right;\n",
       "    }\n",
       "</style>\n",
       "<table border=\"1\" class=\"dataframe\">\n",
       "  <thead>\n",
       "    <tr style=\"text-align: right;\">\n",
       "      <th></th>\n",
       "      <th>PopularProductId</th>\n",
       "      <th>SumProductRevenue</th>\n",
       "      <th>MeanBill</th>\n",
       "    </tr>\n",
       "  </thead>\n",
       "  <tbody>\n",
       "    <tr>\n",
       "      <th>0</th>\n",
       "      <td>11</td>\n",
       "      <td>880</td>\n",
       "      <td>440</td>\n",
       "    </tr>\n",
       "    <tr>\n",
       "      <th>1</th>\n",
       "      <td>5</td>\n",
       "      <td>400</td>\n",
       "      <td>925</td>\n",
       "    </tr>\n",
       "  </tbody>\n",
       "</table>\n",
       "</div>"
      ],
      "text/plain": [
       "  PopularProductId  SumProductRevenue  MeanBill\n",
       "0               11                880       440\n",
       "1                5                400       925"
      ]
     },
     "execution_count": 367,
     "metadata": {},
     "output_type": "execute_result"
    }
   ],
   "source": [
    "report = pop_pr.set_index('ProductId').join(meanBill.set_index('ProductId'),how = 'inner').reset_index().rename(columns={'ProductId':'PopularProductId'})\n",
    "report"
   ]
  },
  {
   "cell_type": "markdown",
   "metadata": {},
   "source": [
    " "
   ]
  },
  {
   "cell_type": "markdown",
   "metadata": {},
   "source": [
    "\n",
    "\n",
    "\n",
    "\n",
    "\n",
    "\n",
    "\n",
    "\n",
    "\n",
    "\n",
    "\n",
    "\n",
    "\n",
    "\n",
    "\n"
   ]
  },
  {
   "cell_type": "markdown",
   "metadata": {},
   "source": [
    "# Покрытие отчета тестами"
   ]
  },
  {
   "cell_type": "markdown",
   "metadata": {},
   "source": [
    "Не совсем понимаю, что я значит покрыть отчет тестами. Предполагаю, это значит проверить верность отчета различными способами."
   ]
  },
  {
   "cell_type": "markdown",
   "metadata": {},
   "source": [
    "1) Проверим, правильно ли алгорит выбрал популярные продукты "
   ]
  },
  {
   "cell_type": "code",
   "execution_count": 373,
   "metadata": {},
   "outputs": [],
   "source": [
    "#создаем dataFrame, которые показывает, в скольких заказах есть каждый продукт в реальности\n",
    "df_count_or =  df_joined.groupby('ProductId').agg({'OrderId':'size'}).rename(columns={'OrderId':'count'}).sort_values('count', ascending=False)\n",
    "#смотрим, какое количество заказов соответствует самым популярным продуктам в реальности\n",
    "max_num_for_test = int(df_count_or.agg({'count':'max'}))"
   ]
  },
  {
   "cell_type": "markdown",
   "metadata": {},
   "source": [
    "1.1 Проверим совпадает ли количество самых популярных продуктов из отчета с количеством реальных самых популярных продуктов"
   ]
  },
  {
   "cell_type": "code",
   "execution_count": 397,
   "metadata": {},
   "outputs": [
    {
     "name": "stdout",
     "output_type": "stream",
     "text": [
      "Test passed without errors\n"
     ]
    }
   ],
   "source": [
    "if report.shape[0] == max_num_for_test:\n",
    "    print('Test passed without errors')\n",
    "elif report.shape[0] < max_num_for_test:\n",
    "    print('The report has less popular products than there are really is')\n",
    "elif report.shape[0] > max_num_for_test:\n",
    "    print('The report has more popular products than there are really is')"
   ]
  },
  {
   "cell_type": "markdown",
   "metadata": {},
   "source": [
    "Если тест 1.1 выполнен успешно (Test passed without errors), то есть смысл делать 1.2. Иначе - нет.\n",
    "\n",
    "1.2 Проверим, совпадают ли самые популярные продукты из теста с реальными популярными продуктами."
   ]
  },
  {
   "cell_type": "code",
   "execution_count": 400,
   "metadata": {},
   "outputs": [],
   "source": [
    "#Получаем самые популярные значения в действительности\n",
    "pop_pr_in_reality = df_count_or[df_count_or['count'] == max_num_for_test].reset_index()['ProductId']"
   ]
  },
  {
   "cell_type": "code",
   "execution_count": 401,
   "metadata": {},
   "outputs": [
    {
     "name": "stdout",
     "output_type": "stream",
     "text": [
      "Test passed without errors\n"
     ]
    }
   ],
   "source": [
    "if(report['PopularProductId'] == pop_pr_in_reality).all():\n",
    "    print('Test passed without errors')\n",
    "elif (report['PopularProductId'] == pop_pr_in_reality).any() and not (report['PopularProductId'] == pop_pr_in_reality).all():\n",
    "    print('Some popular products from report does not match the real ones')\n",
    "elif not (report['PopularProductId'] == pop_pr_in_reality).any():\n",
    "    print('Test failed')\n",
    "    "
   ]
  },
  {
   "cell_type": "markdown",
   "metadata": {},
   "source": [
    " "
   ]
  },
  {
   "cell_type": "markdown",
   "metadata": {},
   "source": [
    " "
   ]
  },
  {
   "cell_type": "markdown",
   "metadata": {},
   "source": [
    "2) Проверим, правильно ли в отчете выведены суммарные выручки по каждому из продуктов (SumProductRevenue). Данный тест не зависит от результата тестов 1.1 и 1.2"
   ]
  },
  {
   "cell_type": "code",
   "execution_count": 446,
   "metadata": {},
   "outputs": [
    {
     "data": {
      "text/html": [
       "<div>\n",
       "<style scoped>\n",
       "    .dataframe tbody tr th:only-of-type {\n",
       "        vertical-align: middle;\n",
       "    }\n",
       "\n",
       "    .dataframe tbody tr th {\n",
       "        vertical-align: top;\n",
       "    }\n",
       "\n",
       "    .dataframe thead th {\n",
       "        text-align: right;\n",
       "    }\n",
       "</style>\n",
       "<table border=\"1\" class=\"dataframe\">\n",
       "  <thead>\n",
       "    <tr style=\"text-align: right;\">\n",
       "      <th></th>\n",
       "      <th>ProductId</th>\n",
       "      <th>OrderId</th>\n",
       "      <th>SumProductRevenue</th>\n",
       "    </tr>\n",
       "  </thead>\n",
       "  <tbody>\n",
       "    <tr>\n",
       "      <th>0</th>\n",
       "      <td>11</td>\n",
       "      <td>2</td>\n",
       "      <td>880</td>\n",
       "    </tr>\n",
       "    <tr>\n",
       "      <th>1</th>\n",
       "      <td>2</td>\n",
       "      <td>1</td>\n",
       "      <td>300</td>\n",
       "    </tr>\n",
       "    <tr>\n",
       "      <th>2</th>\n",
       "      <td>4</td>\n",
       "      <td>1</td>\n",
       "      <td>1000</td>\n",
       "    </tr>\n",
       "    <tr>\n",
       "      <th>3</th>\n",
       "      <td>5</td>\n",
       "      <td>2</td>\n",
       "      <td>400</td>\n",
       "    </tr>\n",
       "    <tr>\n",
       "      <th>4</th>\n",
       "      <td>6</td>\n",
       "      <td>1</td>\n",
       "      <td>35</td>\n",
       "    </tr>\n",
       "    <tr>\n",
       "      <th>5</th>\n",
       "      <td>7</td>\n",
       "      <td>1</td>\n",
       "      <td>450</td>\n",
       "    </tr>\n",
       "    <tr>\n",
       "      <th>6</th>\n",
       "      <td>8</td>\n",
       "      <td>1</td>\n",
       "      <td>150</td>\n",
       "    </tr>\n",
       "  </tbody>\n",
       "</table>\n",
       "</div>"
      ],
      "text/plain": [
       "  ProductId  OrderId  SumProductRevenue\n",
       "0        11        2                880\n",
       "1         2        1                300\n",
       "2         4        1               1000\n",
       "3         5        2                400\n",
       "4         6        1                 35\n",
       "5         7        1                450\n",
       "6         8        1                150"
      ]
     },
     "execution_count": 446,
     "metadata": {},
     "output_type": "execute_result"
    }
   ],
   "source": [
    "#Список суммарных выручек от каждого продукта в реальности\n",
    "pop_pr_sum_rev_real = df_joined.groupby('ProductId')[['Price','OrderId']].agg({'OrderId':'size','Price':'sum'}).rename(columns={'Price':'SumProductRevenue'}).reset_index()\n",
    "pop_pr_sum_rev_real"
   ]
  },
  {
   "cell_type": "code",
   "execution_count": 447,
   "metadata": {},
   "outputs": [],
   "source": [
    "#список продуктов в отчете\n",
    "id_report = np.array(report['PopularProductId'])"
   ]
  },
  {
   "cell_type": "code",
   "execution_count": 479,
   "metadata": {},
   "outputs": [
    {
     "name": "stdout",
     "output_type": "stream",
     "text": [
      "Quantity of matched total revenue of each product: 2\n",
      "Quantity of mismatched total revenue of each product: 0\n",
      "Test passed without errors\n"
     ]
    }
   ],
   "source": [
    "#Делаем проверку. Смотрим какое значение общей выручки имеют популярные продукты из отчета в реальнсти и сравниваем данные показатели со значениями в отчете\n",
    "p, m = 0, 0\n",
    "for i in range(len(id_report)):\n",
    "    line = pop_pr_sum_rev_real[pop_pr_sum_rev_real['ProductId'] == id_report[i]]\n",
    "    if line[['SumProductRevenue']].iloc[0][0] == report[report['PopularProductId'] == id_report[i]][['SumProductRevenue']].iloc[0][0]:\n",
    "        p += 1\n",
    "    else:\n",
    "        m += 1\n",
    "print('Quantity of matched total revenue of each product:', p)        \n",
    "print('Quantity of mismatched total revenue of each product:', m)\n",
    "if m == 0:\n",
    "    print('Test passed without errors')\n",
    "else:\n",
    "    print('Test passed with errors')"
   ]
  },
  {
   "cell_type": "markdown",
   "metadata": {},
   "source": [
    " "
   ]
  },
  {
   "cell_type": "markdown",
   "metadata": {},
   "source": [
    " "
   ]
  },
  {
   "cell_type": "markdown",
   "metadata": {},
   "source": [
    "3) Проверим, правильно ли в отчете выведены средние чеки заказов в которых есть популярные продукты. Данный тест не зависит от результата тестов 1.1, 1.2, 2"
   ]
  },
  {
   "cell_type": "code",
   "execution_count": 487,
   "metadata": {},
   "outputs": [],
   "source": [
    "# поп в реальности не нужны! нужны все товары с их ср стоим заказ\n"
   ]
  },
  {
   "cell_type": "code",
   "execution_count": 505,
   "metadata": {},
   "outputs": [],
   "source": [
    "# таблица соотношения продуктов и заказов в реальности\n",
    "pr_or = df_joined[['ProductId','OrderId']]"
   ]
  },
  {
   "cell_type": "code",
   "execution_count": 513,
   "metadata": {},
   "outputs": [
    {
     "data": {
      "text/html": [
       "<div>\n",
       "<style scoped>\n",
       "    .dataframe tbody tr th:only-of-type {\n",
       "        vertical-align: middle;\n",
       "    }\n",
       "\n",
       "    .dataframe tbody tr th {\n",
       "        vertical-align: top;\n",
       "    }\n",
       "\n",
       "    .dataframe thead th {\n",
       "        text-align: right;\n",
       "    }\n",
       "</style>\n",
       "<table border=\"1\" class=\"dataframe\">\n",
       "  <thead>\n",
       "    <tr style=\"text-align: right;\">\n",
       "      <th></th>\n",
       "      <th>OrderId</th>\n",
       "      <th>Bill</th>\n",
       "    </tr>\n",
       "  </thead>\n",
       "  <tbody>\n",
       "    <tr>\n",
       "      <th>0</th>\n",
       "      <td>10</td>\n",
       "      <td>440</td>\n",
       "    </tr>\n",
       "    <tr>\n",
       "      <th>1</th>\n",
       "      <td>3</td>\n",
       "      <td>450</td>\n",
       "    </tr>\n",
       "    <tr>\n",
       "      <th>2</th>\n",
       "      <td>4</td>\n",
       "      <td>200</td>\n",
       "    </tr>\n",
       "    <tr>\n",
       "      <th>3</th>\n",
       "      <td>7</td>\n",
       "      <td>35</td>\n",
       "    </tr>\n",
       "    <tr>\n",
       "      <th>4</th>\n",
       "      <td>8</td>\n",
       "      <td>1650</td>\n",
       "    </tr>\n",
       "    <tr>\n",
       "      <th>5</th>\n",
       "      <td>9</td>\n",
       "      <td>440</td>\n",
       "    </tr>\n",
       "  </tbody>\n",
       "</table>\n",
       "</div>"
      ],
      "text/plain": [
       "  OrderId  Bill\n",
       "0      10   440\n",
       "1       3   450\n",
       "2       4   200\n",
       "3       7    35\n",
       "4       8  1650\n",
       "5       9   440"
      ]
     },
     "execution_count": 513,
     "metadata": {},
     "output_type": "execute_result"
    }
   ],
   "source": [
    "#посчитали сумму каждого заказа в реальности\n",
    "summ_ord = df_joined.groupby('OrderId').agg({'Price':'sum'}).rename(columns={'Price':'Bill'}).reset_index()\n",
    "summ_ord"
   ]
  },
  {
   "cell_type": "code",
   "execution_count": 524,
   "metadata": {},
   "outputs": [
    {
     "data": {
      "text/html": [
       "<div>\n",
       "<style scoped>\n",
       "    .dataframe tbody tr th:only-of-type {\n",
       "        vertical-align: middle;\n",
       "    }\n",
       "\n",
       "    .dataframe tbody tr th {\n",
       "        vertical-align: top;\n",
       "    }\n",
       "\n",
       "    .dataframe thead th {\n",
       "        text-align: right;\n",
       "    }\n",
       "</style>\n",
       "<table border=\"1\" class=\"dataframe\">\n",
       "  <thead>\n",
       "    <tr style=\"text-align: right;\">\n",
       "      <th></th>\n",
       "      <th>ProductId</th>\n",
       "      <th>MeanBill</th>\n",
       "    </tr>\n",
       "  </thead>\n",
       "  <tbody>\n",
       "    <tr>\n",
       "      <th>0</th>\n",
       "      <td>11</td>\n",
       "      <td>440</td>\n",
       "    </tr>\n",
       "    <tr>\n",
       "      <th>1</th>\n",
       "      <td>2</td>\n",
       "      <td>450</td>\n",
       "    </tr>\n",
       "    <tr>\n",
       "      <th>2</th>\n",
       "      <td>4</td>\n",
       "      <td>1650</td>\n",
       "    </tr>\n",
       "    <tr>\n",
       "      <th>3</th>\n",
       "      <td>5</td>\n",
       "      <td>925</td>\n",
       "    </tr>\n",
       "    <tr>\n",
       "      <th>4</th>\n",
       "      <td>6</td>\n",
       "      <td>35</td>\n",
       "    </tr>\n",
       "    <tr>\n",
       "      <th>5</th>\n",
       "      <td>7</td>\n",
       "      <td>1650</td>\n",
       "    </tr>\n",
       "    <tr>\n",
       "      <th>6</th>\n",
       "      <td>8</td>\n",
       "      <td>450</td>\n",
       "    </tr>\n",
       "  </tbody>\n",
       "</table>\n",
       "</div>"
      ],
      "text/plain": [
       "  ProductId  MeanBill\n",
       "0        11       440\n",
       "1         2       450\n",
       "2         4      1650\n",
       "3         5       925\n",
       "4         6        35\n",
       "5         7      1650\n",
       "6         8       450"
      ]
     },
     "execution_count": 524,
     "metadata": {},
     "output_type": "execute_result"
    }
   ],
   "source": [
    "bill_pr_or_real = pr_or.set_index('OrderId').join(summ_ord.set_index('OrderId'),how = 'inner').reset_index()\n",
    "#получение реального среднего значения чеков в котором есть каждый продукт \n",
    "meanBill_real = bill_pr_or_real.groupby('ProductId').agg({'Bill':'mean'}).rename(columns = {'Bill':'MeanBill'}).reset_index()\n",
    "meanBill_real"
   ]
  },
  {
   "cell_type": "code",
   "execution_count": 526,
   "metadata": {},
   "outputs": [
    {
     "name": "stdout",
     "output_type": "stream",
     "text": [
      "Quantity of matched mean bills where the popular product is: 2\n",
      "Quantity of mismatched mean bills where the popular product is: 0\n",
      "Test passed without errors\n"
     ]
    }
   ],
   "source": [
    "#сравним для популярных продуктов из отчета значения ср чека в отчете и в действительности. id_report - из предыдущего теста\n",
    "p, m = 0, 0\n",
    "for i in range(len(id_report)):\n",
    "    line = meanBill_real[meanBill_real['ProductId'] == id_report[i]]\n",
    "    if line[['MeanBill']].iloc[0][0] == report[report['PopularProductId'] == id_report[i]][['MeanBill']].iloc[0][0]:\n",
    "        p += 1\n",
    "    else:\n",
    "        m += 1\n",
    "print('Quantity of matched mean bills where the popular product is:', p)        \n",
    "print('Quantity of mismatched mean bills where the popular product is:', m)\n",
    "if m == 0:\n",
    "    print('Test passed without errors')\n",
    "else:\n",
    "    print('Test passed with errors')"
   ]
  },
  {
   "cell_type": "code",
   "execution_count": null,
   "metadata": {},
   "outputs": [],
   "source": []
  }
 ],
 "metadata": {
  "kernelspec": {
   "display_name": "Python 3",
   "language": "python",
   "name": "python3"
  },
  "language_info": {
   "codemirror_mode": {
    "name": "ipython",
    "version": 3
   },
   "file_extension": ".py",
   "mimetype": "text/x-python",
   "name": "python",
   "nbconvert_exporter": "python",
   "pygments_lexer": "ipython3",
   "version": "3.7.3"
  }
 },
 "nbformat": 4,
 "nbformat_minor": 2
}
